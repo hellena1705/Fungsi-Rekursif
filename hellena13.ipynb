{
 "cells": [
  {
   "cell_type": "code",
   "execution_count": 1,
   "id": "d26dde24-4b9e-455b-9ca3-7f53085091e0",
   "metadata": {},
   "outputs": [
    {
     "name": "stdin",
     "output_type": "stream",
     "text": [
      "Masukkan bilangan yang ingin di cek:  3\n"
     ]
    },
    {
     "name": "stdout",
     "output_type": "stream",
     "text": [
      "3 adalah bilangan prima\n"
     ]
    }
   ],
   "source": [
    "def prima(n, i = 2):\n",
    "    if (n <= 2):\n",
    "        return True if(n == 2) else False\n",
    "    if (n % i == 0):\n",
    "        return False\n",
    "    if (i * i > n):\n",
    "        return True\n",
    "    return prima(n, i + 1)\n",
    "\n",
    "n = int(input(\"Masukkan bilangan yang ingin di cek: \"))\n",
    "if (prima(n)):\n",
    "    print(n, \"adalah bilangan prima\")\n",
    "else:\n",
    "    print(n, \"bukan bilangan prima\")"
   ]
  },
  {
   "cell_type": "code",
   "execution_count": 2,
   "id": "1bd50d21-6d18-44b4-b0a4-dd99d5cd7c24",
   "metadata": {},
   "outputs": [
    {
     "name": "stdin",
     "output_type": "stream",
     "text": [
      "Masukkan sebuah kalimat:  Kasur ini rusak\n"
     ]
    },
    {
     "name": "stdout",
     "output_type": "stream",
     "text": [
      "ini adalah kalimat Palindrom\n"
     ]
    }
   ],
   "source": [
    "def Palindrom(x):\n",
    "\n",
    "    x = x.lower()\n",
    "    y = len(x)\n",
    "\n",
    "    if y < 2:\n",
    "        return True\n",
    "    elif x[0] == x[y - 1]:\n",
    "        return Palindrom(x[1: y - 1])\n",
    "    else:\n",
    "        return False\n",
    "    \n",
    "x = input(\"Masukkan sebuah kalimat: \")\n",
    "ans = Palindrom(x)\n",
    "\n",
    "if ans:\n",
    "    print(\"ini adalah kalimat Palindrom\")\n",
    "else:\n",
    "    print(\"ini bukan kalimat Palindrom\")"
   ]
  },
  {
   "cell_type": "code",
   "execution_count": 3,
   "id": "13f09545-e5cf-40d2-b652-cddf8bcd18a0",
   "metadata": {},
   "outputs": [
    {
     "name": "stdout",
     "output_type": "stream",
     "text": [
      "Masukkan n bilangan prima: \n"
     ]
    },
    {
     "name": "stdin",
     "output_type": "stream",
     "text": [
      " 3\n"
     ]
    },
    {
     "name": "stdout",
     "output_type": "stream",
     "text": [
      "Jumlah deret ganjil adalah:  4\n"
     ]
    }
   ],
   "source": [
    "def hitung(n1, n2):\n",
    "    if n1 > n2:\n",
    "        return 0\n",
    "    return n1 + hitung(n1 + 2,n2)\n",
    "n1 = 1\n",
    "print(\"Masukkan n bilangan prima: \")\n",
    "n2 = int(input())\n",
    "print(\"Jumlah deret ganjil adalah: \", hitung(n1, n2))"
   ]
  },
  {
   "cell_type": "code",
   "execution_count": 4,
   "id": "ee10a565-be64-4b2d-9e06-7b2aa3f5a289",
   "metadata": {},
   "outputs": [
    {
     "name": "stdin",
     "output_type": "stream",
     "text": [
      "Masukkan bilangan yang diinginkan:  234\n"
     ]
    },
    {
     "name": "stdout",
     "output_type": "stream",
     "text": [
      "Jumlah digit dari 234 adalah: 9\n"
     ]
    }
   ],
   "source": [
    "def jumlah_digit(x):\n",
    "    if x == 0:\n",
    "        return 0\n",
    "    return (x % 10 + jumlah_digit(int(x / 10)))\n",
    "\n",
    "try:\n",
    "    bilangan = int(input(\"Masukkan bilangan yang diinginkan: \"))\n",
    "    if bilangan < 0:\n",
    "        print(\"Masukkan bilangan bulat positif.\")\n",
    "    else:\n",
    "        jumlah_bilangan = jumlah_digit(bilangan)\n",
    "        print(\"Jumlah digit dari\", bilangan, \"adalah:\", jumlah_bilangan)\n",
    "except ValueError:\n",
    "    print(\"Masukkan bilangan bulat positif yang valid.\")"
   ]
  },
  {
   "cell_type": "code",
   "execution_count": 5,
   "id": "e739217c-7040-4688-a3ff-174f728ef366",
   "metadata": {},
   "outputs": [
    {
     "name": "stdin",
     "output_type": "stream",
     "text": [
      "Masukkan nilai m:  4\n",
      "Masukkan niali n:  3\n"
     ]
    },
    {
     "name": "stdout",
     "output_type": "stream",
     "text": [
      "4.0\n"
     ]
    }
   ],
   "source": [
    "def kombinasi(m, n):\n",
    "    if n == 0:\n",
    "        return 1\n",
    "    else:\n",
    "        int((m - n + 1)/ n)\n",
    "        return (kombinasi(m, n - 1) * (m - n + 1) / (n))\n",
    "\n",
    "m = int((input(\"Masukkan nilai m: \")))\n",
    "n = int((input(\"Masukkan niali n: \")))\n",
    "\n",
    "print(kombinasi(m, n))"
   ]
  },
  {
   "cell_type": "code",
   "execution_count": null,
   "id": "0f7a08b0-c2e3-4a3a-a3a0-ab3ead8de84c",
   "metadata": {},
   "outputs": [],
   "source": []
  }
 ],
 "metadata": {
  "kernelspec": {
   "display_name": "Python 3 (ipykernel)",
   "language": "python",
   "name": "python3"
  },
  "language_info": {
   "codemirror_mode": {
    "name": "ipython",
    "version": 3
   },
   "file_extension": ".py",
   "mimetype": "text/x-python",
   "name": "python",
   "nbconvert_exporter": "python",
   "pygments_lexer": "ipython3",
   "version": "3.11.7"
  }
 },
 "nbformat": 4,
 "nbformat_minor": 5
}
